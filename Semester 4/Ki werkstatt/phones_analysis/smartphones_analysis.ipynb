{
 "cells": [
  {
   "cell_type": "markdown",
   "id": "700873c5",
   "metadata": {},
   "source": [
    "title: \"World-happiness-report\"\n",
    "author: \"Rafaat Choki\"\n",
    "date: \"2024-07-02\""
   ]
  },
  {
   "cell_type": "markdown",
   "id": "6568ba72",
   "metadata": {},
   "source": [
    "## Einleitung\n",
    "\n",
    "In dieser Analyse untersuchen wir die Entwicklung von Smartphones über die Jahre hinweg und die Zusammenhänge zwischen verschiedenen technischen Merkmalen. Unser Ziel ist es, zu verstehen, wie sich die Spezifikationen von Smartphones verändert haben, um den steigenden Anforderungen der Nutzer gerecht zu werden. Dazu werden wir die Daten bereinigen, explorativ analysieren, Hypothesen testen und statistische Modelle verwenden, um die wichtigsten Trends und Korrelationen in den Smartphone-Daten zu identifizieren.\n",
    "\n",
    "### Hypothesen\n",
    "\n",
    "\n",
    "**1. Hypothese:** **Größere Akkukapazität ist mit größeren Displays verbunden.**\n",
    "\n",
    "   - **Erklärung:** Diese Hypothese nimmt an, dass Smartphones mit größeren Displays auch größere Akkus benötigen, um den zusätzlichen Energieverbrauch auszugleichen. Größere Bildschirme bieten eine bessere Benutzererfahrung, erfordern jedoch mehr Energie, was eine größere Batterie erforderlich macht, um eine angemessene Akkulaufzeit zu gewährleisten.\n",
    "\n",
    "**2. Hypothese:** **Smartphones mit höherer Display-Auflösung bieten auch eine höhere Bildwiederholrate (Display_Refresh_Rate).**\n",
    "\n",
    "   - **Erklärung:** Diese Hypothese nimmt an, dass Smartphones mit einer höheren Display-Auflösung (höherer Pixelwert) auch eine höhere Bildwiederholrate aufweisen. Geräte mit einer besseren Display-Technologie erfordern möglicherweise auch eine verbesserte Bildwiederholrate, um die hohe Auflösung flüssig darzustellen und eine bessere visuelle Erfahrung zu bieten.\n",
    "\n",
    "**3. Hypothese:** Der **Primary_Storage**, **Memory**, **Primary_Camera**, **Front_Camera**, **Battery**, **Display_Refresh_Rate**, und **Display_Resolution** von Smartphones haben sich im Laufe der Jahre vergrößert, um den steigenden Anforderungen der Nutzer gerecht zu werden.\n",
    "\n",
    "   - **Erklärung:** Diese Hypothese besagt, dass die wichtigsten technischen Merkmale von Smartphones (Speicher, Kameraauflösungen, Akkukapazität, Displayauflösungen und Bildwiederholraten) mit den Jahren gewachsen sind, um mit der wachsenden Nachfrage nach leistungsfähigeren Geräten und besseren Nutzererfahrungen Schritt zu halten. Dies könnte auf den zunehmenden Bedarf an Speicherplatz für größere Apps, bessere Kameraqualität und längere Akkulaufzeiten hinweisen.\n",
    "\n",
    "### Vorgehensweise\n",
    "\n",
    "**Datenimport**: Wir importieren die notwendigen Daten und Bibliotheken.\n",
    "\n",
    "**1. Datenvorbereitung und Bereinigung**: \n",
    "Wir beginnen mit der Datenvorbereitung, indem wir sicherstellen, dass alle relevanten Spalten korrekt formatiert sind und keine fehlenden oder fehlerhaften Werte enthalten. Insbesondere müssen Spalten wie `Primary_Storage`, `Memory`, `Primary_Camera`, `Battery`, `Display_Resolution` und `Display_Refresh_Rate` überprüft und bereinigt werden. Falls nötig, konvertieren wir `Display_Resolution` in numerische Werte (z. B. Gesamtpixelanzahl), um eine einfachere Analyse zu ermöglichen.\n",
    "\n",
    "**2. Explorative Datenanalyse**:\n",
    "Nach der Bereinigung analysieren wir die Daten mithilfe von deskriptiver Statistik und Visualisierungen, um die Entwicklung der Smartphone-Technologien über die Jahre hinweg zu verstehen. Wir erstellen Diagramme wie Scatterplots, Boxplots und Liniencharts, um Trends und Korrelationen zwischen den wichtigsten Merkmalen zu erkennen. Dies umfasst die Untersuchung, wie sich `Primary_Storage`, `Memory`, `Primary_Camera`, `Battery` und andere Merkmale im Laufe der Jahre verändert haben.\n",
    "\n",
    "**3. Korrelation und Trendanalyse**:\n",
    "Wir analysieren die Korrelationen zwischen verschiedenen Merkmalen, um festzustellen, ob es signifikante Zusammenhänge gibt, z. B. ob größere Akkus mit größeren Displays oder höheren Bildwiederholraten korrelieren. Zusätzlich verwenden wir Trendlinien, um die Entwicklung bestimmter Merkmale über die Jahre hinweg darzustellen.\n",
    "\n",
    "**4. Lineare Regression zur Schätzung der Entwicklung**:\n",
    "Um die Beziehungen zwischen den verschiedenen Merkmalen und deren Veränderungen im Laufe der Zeit zu quantifizieren, verwenden wir lineare Regression. Diese hilft uns, die wichtigsten Faktoren zu identifizieren, die für das Wachstum von `Primary_Storage`, `Battery`, `Display_Resolution` und anderen Merkmalen verantwortlich sind. Zudem können wir die Bedeutung von Faktoren wie Displaygröße und Kameraauflösung im Zusammenhang mit anderen technischen Eigenschaften analysieren.\n",
    "\n",
    "**5. Hypothesen testen**:\n",
    "Wir überprüfen unsere Hypothesen mithilfe von statistischen Tests und Visualisierungen. Beispielsweise testen wir, ob der Zusammenhang zwischen Akkukapazität und Displaygröße signifikant ist oder ob Smartphones mit höherer Displayauflösung tatsächlich eine höhere Bildwiederholrate aufweisen."
   ]
  },
  {
   "cell_type": "markdown",
   "id": "523838ce",
   "metadata": {},
   "source": [
    "## Hauptteil\n",
    "\n",
    "### 1. Daten import"
   ]
  },
  {
   "cell_type": "code",
   "execution_count": null,
   "id": "3137ce7e",
   "metadata": {},
   "outputs": [],
   "source": [
    "import pandas as pd\n",
    "import numpy as np\n",
    "import matplotlib.pyplot as plt\n",
    "import seaborn as sns\n",
    "import missingno as msno\n",
    "\n",
    "data = pd.read_csv(\"C:/Users/rafaa/Desktop/phones_analysis/data/smartphones.csv\")\n",
    "data"
   ]
  },
  {
   "cell_type": "markdown",
   "id": "1c06cdd4",
   "metadata": {},
   "source": [
    "### 1. Datenvorbereitung\n",
    "\n",
    "**1.1. Allgemeine Informationen zu den Daten anzeigen:**\n",
    "    \n",
    "   - **Grund:** Bevor wir mit der eigentlichen Datenanalyse beginnen, ist es wichtig, einen Überblick über die Struktur und den Inhalt unserer Daten zu erhalten. Dies hilft uns, mögliche Probleme wie fehlende Werte, falsche Datentypen oder unvollständige Einträge zu erkennen und diese entsprechend zu behandeln.\n",
    "\n",
    "   - **Beobachtung:** Die Daten beinhalten eine Vielzahl von technischen Spezifikationen für Smartphones. Einige Spalten enthalten fehlende Werte (z.B. `Processor`, `Front_Camera`, `Display_Refresh_Rate`), was darauf hindeutet, dass bestimmte Geräte in diesen Bereichen keine Angaben haben oder die Information nicht erfasst wurde. Zudem sind einige Spalten als Zeichenketten (Strings) formatiert, obwohl sie numerische Werte enthalten sollten (z.B. `Display_Resolution`), was zu potenziellen Schwierigkeiten bei der Analyse führen kann.\n",
    "    \n",
    "   - **Code:**"
   ]
  },
  {
   "cell_type": "code",
   "execution_count": null,
   "id": "d7393339",
   "metadata": {},
   "outputs": [],
   "source": [
    "# Allgemeine Informationen zu den Daten anzeigen\n",
    "data.info()\n",
    "data.describe()"
   ]
  },
  {
   "cell_type": "code",
   "execution_count": null,
   "id": "db89a0c3",
   "metadata": {},
   "outputs": [],
   "source": [
    "# Daten nach erscheinungsdatum sortieren\n",
    "data_sorted = data.sort_values(by='Release_Date', ascending=False)\n",
    "\n",
    "# Ein kurzer Blick auf die ersten Zeilen der Daten\n",
    "data_sorted.head()"
   ]
  },
  {
   "cell_type": "code",
   "execution_count": null,
   "id": "5ddbc491",
   "metadata": {},
   "outputs": [],
   "source": [
    "# Ein kurzer Blick auf die letzen Zeilen der Daten\n",
    "data_sorted.tail()"
   ]
  },
  {
   "cell_type": "markdown",
   "id": "5e0b9ef0",
   "metadata": {},
   "source": [
    "### 1.2. Analyse der Spalten und Entfernen irrelevanter Spalten\n",
    "\n",
    "  - **Grund:** Bevor wir mit der eigentlichen Analyse fortfahren, ist es wichtig, die verschiedenen Spalten zu überprüfen und zu entscheiden, ob sie für die Analyse notwendig sind. Einige Spalten, die wenig bis keine Variation in den Daten aufweisen oder für die Analyse irrelevant sind, können entfernt werden, um den Datensatz zu optimieren und die Analyse zu vereinfachen.\n",
    "  \n",
    "  - **Beobachtung:** Die Spalte `External_Storage` wird für die Analyse irrelevant sein. Es gibt auch doppelte Einträge für \"not expandable\" sowie leere Werte (7,8%).\n",
    "\n",
    "  - **Code:**"
   ]
  },
  {
   "cell_type": "code",
   "execution_count": null,
   "id": "54ddb972",
   "metadata": {},
   "outputs": [],
   "source": [
    "# Prozentsatz der verschiedenen Werte in der Spalte 'External_Storage'\n",
    "external_storage_unique_percentage = data['External_Storage'].value_counts(normalize=True) * 100\n",
    "\n",
    "# Ausgabe der verschiedenen Werte und deren Prozentsatz\n",
    "print(\"Prozentuale Verteilung der verschiedenen Werte in 'External_Storage':\")\n",
    "print(external_storage_unique_percentage)\n",
    "\n",
    "# Wenn die Spalte irrelevant ist, löschen wir sie\n",
    "data = data.drop(columns=['External_Storage'])\n",
    "\n",
    "# Überprüfen, ob die Spalte 'External_Storage' noch existiert\n",
    "print(f\"Existiert die Spalte 'External_Storage' noch? {'External_Storage' in data.columns}\")"
   ]
  },
  {
   "cell_type": "markdown",
   "id": "2ee93e2a",
   "metadata": {},
   "source": [
    "### 1.3. Umwandlung der Display-Auflösung in numerische Werte\n",
    "\n",
    "  - **Grund:** Um die Hypothese zu überprüfen, dass Smartphones mit höherer Display-Auflösung auch eine höhere Bildwiederholrate (Display_Refresh_Rate) bieten, müssen wir die `Display_Resolution`-Daten in eine numerische Form bringen. Die aktuelle Darstellung der Auflösung als Zeichenkette (z. B. \"1280 x 720\") hindert uns daran, eine statistische Analyse durchzuführen. Durch das Aufteilen der Auflösung in Breite und Höhe sowie der Berechnung der Gesamtauflösung können wir die Daten numerisch auswerten und die Hypothese validieren.\n",
    "\n",
    "  - **Code:**"
   ]
  },
  {
   "cell_type": "code",
   "execution_count": 50,
   "id": "56e2e8ff",
   "metadata": {},
   "outputs": [
    {
     "data": {
      "text/html": [
       "<div>\n",
       "<style scoped>\n",
       "    .dataframe tbody tr th:only-of-type {\n",
       "        vertical-align: middle;\n",
       "    }\n",
       "\n",
       "    .dataframe tbody tr th {\n",
       "        vertical-align: top;\n",
       "    }\n",
       "\n",
       "    .dataframe thead th {\n",
       "        text-align: right;\n",
       "    }\n",
       "</style>\n",
       "<table border=\"1\" class=\"dataframe\">\n",
       "  <thead>\n",
       "    <tr style=\"text-align: right;\">\n",
       "      <th></th>\n",
       "      <th>Display_Resolution</th>\n",
       "      <th>Resolution_Width</th>\n",
       "      <th>Resolution_Height</th>\n",
       "      <th>Total_Resolution</th>\n",
       "    </tr>\n",
       "  </thead>\n",
       "  <tbody>\n",
       "    <tr>\n",
       "      <th>0</th>\n",
       "      <td>854 x 480</td>\n",
       "      <td>854.0</td>\n",
       "      <td>480.0</td>\n",
       "      <td>409920.0</td>\n",
       "    </tr>\n",
       "    <tr>\n",
       "      <th>1</th>\n",
       "      <td>1280 x 720</td>\n",
       "      <td>1280.0</td>\n",
       "      <td>720.0</td>\n",
       "      <td>921600.0</td>\n",
       "    </tr>\n",
       "    <tr>\n",
       "      <th>2</th>\n",
       "      <td>1920 x 1080</td>\n",
       "      <td>1920.0</td>\n",
       "      <td>1080.0</td>\n",
       "      <td>2073600.0</td>\n",
       "    </tr>\n",
       "    <tr>\n",
       "      <th>3</th>\n",
       "      <td>1280 x 720</td>\n",
       "      <td>1280.0</td>\n",
       "      <td>720.0</td>\n",
       "      <td>921600.0</td>\n",
       "    </tr>\n",
       "    <tr>\n",
       "      <th>4</th>\n",
       "      <td>1280 x 720</td>\n",
       "      <td>1280.0</td>\n",
       "      <td>720.0</td>\n",
       "      <td>921600.0</td>\n",
       "    </tr>\n",
       "  </tbody>\n",
       "</table>\n",
       "</div>"
      ],
      "text/plain": [
       "  Display_Resolution  Resolution_Width  Resolution_Height  Total_Resolution\n",
       "0         854 x 480              854.0              480.0          409920.0\n",
       "1        1280 x 720             1280.0              720.0          921600.0\n",
       "2       1920 x 1080             1920.0             1080.0         2073600.0\n",
       "3        1280 x 720             1280.0              720.0          921600.0\n",
       "4        1280 x 720             1280.0              720.0          921600.0"
      ]
     },
     "execution_count": 50,
     "metadata": {},
     "output_type": "execute_result"
    }
   ],
   "source": [
    "# Schritt 1: Display_Resolution aufteilen in Breite und Höhe\n",
    "data[['Resolution_Width', 'Resolution_Height']] = data['Display_Resolution'].str.split(' x ', expand=True)\n",
    "\n",
    "# Schritt 2: Umwandlung in numerische Werte\n",
    "data['Resolution_Width'] = pd.to_numeric(data['Resolution_Width'], errors='coerce')\n",
    "data['Resolution_Height'] = pd.to_numeric(data['Resolution_Height'], errors='coerce')\n",
    "\n",
    "# Schritt 3: Berechnung der Gesamtauflösung\n",
    "data['Total_Resolution'] = data['Resolution_Width'] * data['Resolution_Height']\n",
    "\n",
    "# Überprüfen der ersten Zeilen\n",
    "data[['Display_Resolution', 'Resolution_Width', 'Resolution_Height', 'Total_Resolution']].head()"
   ]
  }
 ],
 "metadata": {
  "kernelspec": {
   "display_name": "Python 3",
   "language": "python",
   "name": "python3"
  },
  "language_info": {
   "codemirror_mode": {
    "name": "ipython",
    "version": 3
   },
   "file_extension": ".py",
   "mimetype": "text/x-python",
   "name": "python",
   "nbconvert_exporter": "python",
   "pygments_lexer": "ipython3",
   "version": "3.12.6"
  }
 },
 "nbformat": 4,
 "nbformat_minor": 5
}
